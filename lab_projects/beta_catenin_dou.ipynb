{
 "cells": [
  {
   "cell_type": "code",
   "execution_count": 1,
   "id": "d11a7ef4",
   "metadata": {
    "ExecuteTime": {
     "end_time": "2024-12-20T10:39:58.959336Z",
     "start_time": "2024-12-20T10:39:58.955575Z"
    }
   },
   "outputs": [
    {
     "name": "stderr",
     "output_type": "stream",
     "text": [
      "INFO: [2024-12-20 02:44:38] numexpr.utils - NumExpr defaulting to 8 threads.\n",
      "WARNING: [2024-12-20 02:44:41] indra_cogex.apps.constants - Pusher app not configured. Please set the environment variables CLARE_PUSHER_APP_ID, CLARE_PUSHER_KEY, CLARE_PUSHER_SECRET, and CLARE_PUSHER_CLUSTER.\n"
     ]
    }
   ],
   "source": [
    "import os\n",
    "import glob\n",
    "\n",
    "from jinja2 import Environment, FileSystemLoader\n",
    "from IPython.core.display import HTML\n",
    "\n",
    "from indra_cogex.analysis.source_targets_explanation import explain_downstream\n",
    "\n",
    "source_protein_name = 'CTNNB1'\n",
    "\n",
    "target_protein_names = ['VWA2', 'LRP4', 'CTNNB1', 'GLCE', 'ACSL5', 'NOTUM', 'APCDD1',\n",
    "                        'DKK4', 'EPHA7', 'CTNNA2', 'ADAMTSL2', 'CALML3', 'CEMIP2', 'AMOT',\n",
    "                        'CXCL14', 'PLA2G4A', 'RCN2', 'TTC9', 'FABP4', 'GPCPD1', 'VSNL1',\n",
    "                        'CRYBB1', 'LEF1', 'PDZD8', 'FNDC3A']\n",
    "\n",
    "output_folder = 'analysis_test'"
   ]
  },
  {
   "cell_type": "code",
   "execution_count": 2,
   "id": "70921e45",
   "metadata": {
    "ExecuteTime": {
     "end_time": "2024-12-20T10:40:16.153696Z",
     "start_time": "2024-12-20T10:40:11.557371Z"
    }
   },
   "outputs": [
    {
     "name": "stderr",
     "output_type": "stream",
     "text": [
      "INFO: [2024-12-20 02:44:41] indra_cogex.client.neo4j_client - Using configured URL for INDRA neo4j connection\n",
      "INFO: [2024-12-20 02:44:41] indra_cogex.client.neo4j_client - Using configured credentials for INDRA neo4j connection\n",
      "INFO: [2024-12-20 02:44:41] indra_cogex.client.neo4j_client - Using configured URL for INDRA neo4j connection\n",
      "INFO: [2024-12-20 02:44:41] indra_cogex.client.neo4j_client - Using configured credentials for INDRA neo4j connection\n"
     ]
    },
    {
     "name": "stdout",
     "output_type": "stream",
     "text": [
      "{'source_ns': 'HGNC', 'source_id': '2514', 'target_ns': 'UP', 'target_id': 'Q8L925', 'rel_type': 'indra_rel', 'data': {'evidence_count': 2, 'stmt_type': 'Complex', 'medscan_only': False, 'stmt_json': '{\"type\": \"Complex\", \"members\": [{\"name\": \"FN1\", \"db_refs\": {\"UP\": \"P02751\", \"TEXT\": \"Fn\", \"HGNC\": \"3778\", \"EGID\": \"2335\"}}, {\"name\": \"CRC\", \"db_refs\": {\"UP\": \"Q8L925\", \"TEXT\": \"CRC\", \"EGID\": \"843249\"}}, {\"name\": \"CTNNB1\", \"db_refs\": {\"UP\": \"P35222\", \"EGID\": \"1499\", \"HGNC\": \"2514\", \"TEXT\": \"\\\\u03b2-catenin\"}}], \"belief\": 0.86, \"evidence\": [{\"source_api\": \"sparser\", \"pmid\": \"28423670\", \"text\": \"To test this hypothesis, we examined whether Fn infection is associated with \\\\u03b2-catenin nuclear accumulation in human CRC tissues and cells, and whether \\\\u03b2-catenin accumulation by Fn is induced via the TLR4/PAK1 cascade.\", \"annotations\": {\"found_by\": \"BIO-ASSOCIATE\"}, \"text_refs\": {\"PMID\": \"28423670\", \"TRID\": 8298127, \"PMCID\": \"PMC5458249\", \"DOI\": \"10.18632/ONCOTARGET.15992\"}, \"source_hash\": -3016550901563377654}], \"id\": \"4aa01eb9-29dc-44f6-bde1-4edd70c9a873\", \"matches_hash\": \"35032266615170262\"}', 'source_counts': '{\"sparser\": 2}', 'sparser_only': True, 'has_reader_evidence': True, 'has_database_evidence': False, 'belief': 0.86, 'has_retracted_evidence': False, 'stmt_hash': 35032266615170262}}\n"
     ]
    },
    {
     "ename": "AttributeError",
     "evalue": "'Relation' object has no attribute 'target_name'",
     "output_type": "error",
     "traceback": [
      "\u001b[0;31m---------------------------------------------------------------------------\u001b[0m",
      "\u001b[0;31mAttributeError\u001b[0m                            Traceback (most recent call last)",
      "Cell \u001b[0;32mIn[2], line 1\u001b[0m\n\u001b[0;32m----> 1\u001b[0m results \u001b[38;5;241m=\u001b[39m \u001b[43mexplain_downstream\u001b[49m\u001b[43m(\u001b[49m\u001b[43msource_protein_name\u001b[49m\u001b[43m,\u001b[49m\u001b[43m \u001b[49m\u001b[43mtarget_protein_names\u001b[49m\u001b[43m,\u001b[49m\u001b[43m \u001b[49m\u001b[43moutput_folder\u001b[49m\u001b[43m)\u001b[49m\n\u001b[1;32m      3\u001b[0m env \u001b[38;5;241m=\u001b[39m Environment(loader\u001b[38;5;241m=\u001b[39mFileSystemLoader(\u001b[38;5;124m'\u001b[39m\u001b[38;5;124m.\u001b[39m\u001b[38;5;124m'\u001b[39m)) \n\u001b[1;32m      4\u001b[0m template \u001b[38;5;241m=\u001b[39m env\u001b[38;5;241m.\u001b[39mget_template(\u001b[38;5;124m'\u001b[39m\u001b[38;5;124mprotein_analysis_template.html\u001b[39m\u001b[38;5;124m'\u001b[39m)\n",
      "File \u001b[0;32m~/Documents/GitHub/indra_cogex/src/indra_cogex/client/neo4j_client.py:1127\u001b[0m, in \u001b[0;36mautoclient.<locals>._decorator.<locals>._wrapped\u001b[0;34m(*args, **kwargs)\u001b[0m\n\u001b[1;32m   1125\u001b[0m \u001b[38;5;28;01mif\u001b[39;00m client \u001b[38;5;129;01mis\u001b[39;00m \u001b[38;5;28;01mNone\u001b[39;00m:\n\u001b[1;32m   1126\u001b[0m     kwargs[\u001b[38;5;124m\"\u001b[39m\u001b[38;5;124mclient\u001b[39m\u001b[38;5;124m\"\u001b[39m] \u001b[38;5;241m=\u001b[39m Neo4jClient()\n\u001b[0;32m-> 1127\u001b[0m rv \u001b[38;5;241m=\u001b[39m \u001b[43mfunc\u001b[49m\u001b[43m(\u001b[49m\u001b[38;5;241;43m*\u001b[39;49m\u001b[43margs\u001b[49m\u001b[43m,\u001b[49m\u001b[43m \u001b[49m\u001b[38;5;241;43m*\u001b[39;49m\u001b[38;5;241;43m*\u001b[39;49m\u001b[43mkwargs\u001b[49m\u001b[43m)\u001b[49m\n\u001b[1;32m   1128\u001b[0m \u001b[38;5;28;01mif\u001b[39;00m client \u001b[38;5;129;01mis\u001b[39;00m \u001b[38;5;28;01mNone\u001b[39;00m:\n\u001b[1;32m   1129\u001b[0m     kwargs[\u001b[38;5;124m\"\u001b[39m\u001b[38;5;124mclient\u001b[39m\u001b[38;5;124m\"\u001b[39m]\u001b[38;5;241m.\u001b[39mclose_session()\n",
      "File \u001b[0;32m~/Documents/GitHub/indra_cogex/src/indra_cogex/analysis/source_targets_explanation.py:670\u001b[0m, in \u001b[0;36mexplain_downstream\u001b[0;34m(source, targets, output_path, client, id_type)\u001b[0m\n\u001b[1;32m    667\u001b[0m     logger\u001b[38;5;241m.\u001b[39minfo(\u001b[38;5;124mf\u001b[39m\u001b[38;5;124m\"\u001b[39m\u001b[38;5;124mCreating output directory \u001b[39m\u001b[38;5;132;01m{\u001b[39;00moutput_path\u001b[38;5;132;01m}\u001b[39;00m\u001b[38;5;124m\"\u001b[39m)\n\u001b[1;32m    668\u001b[0m     os\u001b[38;5;241m.\u001b[39mmakedirs(output_path)\n\u001b[0;32m--> 670\u001b[0m \u001b[38;5;28;01mreturn\u001b[39;00m \u001b[43mrun_explain_downstream_analysis\u001b[49m\u001b[43m(\u001b[49m\u001b[43msource_hgnc_id\u001b[49m\u001b[43m,\u001b[49m\u001b[43m \u001b[49m\u001b[43mtarget_hgnc_ids\u001b[49m\u001b[43m,\u001b[49m\u001b[43m \u001b[49m\u001b[43moutput_path\u001b[49m\u001b[43m,\u001b[49m\n\u001b[1;32m    671\u001b[0m \u001b[43m                                       \u001b[49m\u001b[43mclient\u001b[49m\u001b[38;5;241;43m=\u001b[39;49m\u001b[43mclient\u001b[49m\u001b[43m)\u001b[49m\n",
      "File \u001b[0;32m~/Documents/GitHub/indra_cogex/src/indra_cogex/client/neo4j_client.py:1127\u001b[0m, in \u001b[0;36mautoclient.<locals>._decorator.<locals>._wrapped\u001b[0;34m(*args, **kwargs)\u001b[0m\n\u001b[1;32m   1125\u001b[0m \u001b[38;5;28;01mif\u001b[39;00m client \u001b[38;5;129;01mis\u001b[39;00m \u001b[38;5;28;01mNone\u001b[39;00m:\n\u001b[1;32m   1126\u001b[0m     kwargs[\u001b[38;5;124m\"\u001b[39m\u001b[38;5;124mclient\u001b[39m\u001b[38;5;124m\"\u001b[39m] \u001b[38;5;241m=\u001b[39m Neo4jClient()\n\u001b[0;32m-> 1127\u001b[0m rv \u001b[38;5;241m=\u001b[39m \u001b[43mfunc\u001b[49m\u001b[43m(\u001b[49m\u001b[38;5;241;43m*\u001b[39;49m\u001b[43margs\u001b[49m\u001b[43m,\u001b[49m\u001b[43m \u001b[49m\u001b[38;5;241;43m*\u001b[39;49m\u001b[38;5;241;43m*\u001b[39;49m\u001b[43mkwargs\u001b[49m\u001b[43m)\u001b[49m\n\u001b[1;32m   1128\u001b[0m \u001b[38;5;28;01mif\u001b[39;00m client \u001b[38;5;129;01mis\u001b[39;00m \u001b[38;5;28;01mNone\u001b[39;00m:\n\u001b[1;32m   1129\u001b[0m     kwargs[\u001b[38;5;124m\"\u001b[39m\u001b[38;5;124mclient\u001b[39m\u001b[38;5;124m\"\u001b[39m]\u001b[38;5;241m.\u001b[39mclose_session()\n",
      "File \u001b[0;32m~/Documents/GitHub/indra_cogex/src/indra_cogex/analysis/source_targets_explanation.py:548\u001b[0m, in \u001b[0;36mrun_explain_downstream_analysis\u001b[0;34m(source_hgnc_id, target_hgnc_ids, output_path, client)\u001b[0m\n\u001b[1;32m    528\u001b[0m \u001b[38;5;250m\u001b[39m\u001b[38;5;124;03m\"\"\"This method uses the HGNC ids of the source and targets\u001b[39;00m\n\u001b[1;32m    529\u001b[0m \u001b[38;5;124;03m    to pass into and call other methods\u001b[39;00m\n\u001b[1;32m    530\u001b[0m \n\u001b[0;32m   (...)\u001b[0m\n\u001b[1;32m    544\u001b[0m \u001b[38;5;124;03m    Dictionary of analysis results\u001b[39;00m\n\u001b[1;32m    545\u001b[0m \u001b[38;5;124;03m\"\"\"\u001b[39;00m\n\u001b[1;32m    546\u001b[0m \u001b[38;5;66;03m# Get filtered dataframe by protiens that source has INDRA rel with\u001b[39;00m\n\u001b[1;32m    547\u001b[0m stmts_by_protein_df, stmts_by_protein_filtered_df \u001b[38;5;241m=\u001b[39m \\\n\u001b[0;32m--> 548\u001b[0m     \u001b[43mget_stmts_from_source\u001b[49m\u001b[43m(\u001b[49m\u001b[43msource_hgnc_id\u001b[49m\u001b[43m,\u001b[49m\u001b[43m \u001b[49m\u001b[43mtarget_proteins\u001b[49m\u001b[38;5;241;43m=\u001b[39;49m\u001b[43mtarget_hgnc_ids\u001b[49m\u001b[43m)\u001b[49m\n\u001b[1;32m    550\u001b[0m \u001b[38;5;66;03m# Get INDRA statements for protiens that have direct INDRA rel\u001b[39;00m\n\u001b[1;32m    551\u001b[0m stmts_html_list \u001b[38;5;241m=\u001b[39m assemble_protein_stmt_htmls(stmts_by_protein_filtered_df, output_path)\n",
      "File \u001b[0;32m~/Documents/GitHub/indra_cogex/src/indra_cogex/client/neo4j_client.py:1127\u001b[0m, in \u001b[0;36mautoclient.<locals>._decorator.<locals>._wrapped\u001b[0;34m(*args, **kwargs)\u001b[0m\n\u001b[1;32m   1125\u001b[0m \u001b[38;5;28;01mif\u001b[39;00m client \u001b[38;5;129;01mis\u001b[39;00m \u001b[38;5;28;01mNone\u001b[39;00m:\n\u001b[1;32m   1126\u001b[0m     kwargs[\u001b[38;5;124m\"\u001b[39m\u001b[38;5;124mclient\u001b[39m\u001b[38;5;124m\"\u001b[39m] \u001b[38;5;241m=\u001b[39m Neo4jClient()\n\u001b[0;32m-> 1127\u001b[0m rv \u001b[38;5;241m=\u001b[39m \u001b[43mfunc\u001b[49m\u001b[43m(\u001b[49m\u001b[38;5;241;43m*\u001b[39;49m\u001b[43margs\u001b[49m\u001b[43m,\u001b[49m\u001b[43m \u001b[49m\u001b[38;5;241;43m*\u001b[39;49m\u001b[38;5;241;43m*\u001b[39;49m\u001b[43mkwargs\u001b[49m\u001b[43m)\u001b[49m\n\u001b[1;32m   1128\u001b[0m \u001b[38;5;28;01mif\u001b[39;00m client \u001b[38;5;129;01mis\u001b[39;00m \u001b[38;5;28;01mNone\u001b[39;00m:\n\u001b[1;32m   1129\u001b[0m     kwargs[\u001b[38;5;124m\"\u001b[39m\u001b[38;5;124mclient\u001b[39m\u001b[38;5;124m\"\u001b[39m]\u001b[38;5;241m.\u001b[39mclose_session()\n",
      "File \u001b[0;32m~/Documents/GitHub/indra_cogex/src/indra_cogex/analysis/source_targets_explanation.py:124\u001b[0m, in \u001b[0;36mget_stmts_from_source\u001b[0;34m(source_id, client, source_ns, target_proteins)\u001b[0m\n\u001b[1;32m    122\u001b[0m     \u001b[38;5;28;01mbreak\u001b[39;00m\n\u001b[1;32m    123\u001b[0m \u001b[38;5;66;03m# Extract necessary information from the result and creates dictionary\u001b[39;00m\n\u001b[0;32m--> 124\u001b[0m records \u001b[38;5;241m=\u001b[39m [\n\u001b[1;32m    125\u001b[0m        {\n\u001b[1;32m    126\u001b[0m         \u001b[38;5;124m\"\u001b[39m\u001b[38;5;124mname\u001b[39m\u001b[38;5;124m\"\u001b[39m: entry\u001b[38;5;241m.\u001b[39mtarget_name,\n\u001b[1;32m    127\u001b[0m         \u001b[38;5;124m\"\u001b[39m\u001b[38;5;124mtarget_type\u001b[39m\u001b[38;5;124m\"\u001b[39m: entry\u001b[38;5;241m.\u001b[39mtarget_ns,\n\u001b[1;32m    128\u001b[0m         \u001b[38;5;124m\"\u001b[39m\u001b[38;5;124mtarget_id\u001b[39m\u001b[38;5;124m\"\u001b[39m: entry\u001b[38;5;241m.\u001b[39mtarget_id,\n\u001b[1;32m    129\u001b[0m         \u001b[38;5;124m\"\u001b[39m\u001b[38;5;124mstmt_type\u001b[39m\u001b[38;5;124m\"\u001b[39m: entry\u001b[38;5;241m.\u001b[39mdata[\u001b[38;5;124m\"\u001b[39m\u001b[38;5;124mstmt_type\u001b[39m\u001b[38;5;124m\"\u001b[39m],\n\u001b[1;32m    130\u001b[0m         \u001b[38;5;124m\"\u001b[39m\u001b[38;5;124mevidence_count\u001b[39m\u001b[38;5;124m\"\u001b[39m:entry\u001b[38;5;241m.\u001b[39mdata[\u001b[38;5;124m\"\u001b[39m\u001b[38;5;124mevidence_count\u001b[39m\u001b[38;5;124m\"\u001b[39m],\n\u001b[1;32m    131\u001b[0m         \u001b[38;5;124m\"\u001b[39m\u001b[38;5;124mstmt_hash\u001b[39m\u001b[38;5;124m\"\u001b[39m:entry\u001b[38;5;241m.\u001b[39mdata[\u001b[38;5;124m\"\u001b[39m\u001b[38;5;124mstmt_hash\u001b[39m\u001b[38;5;124m\"\u001b[39m],\n\u001b[1;32m    132\u001b[0m         \u001b[38;5;124m\"\u001b[39m\u001b[38;5;124mstmt_json\u001b[39m\u001b[38;5;124m\"\u001b[39m: entry\u001b[38;5;241m.\u001b[39mdata[\u001b[38;5;124m\"\u001b[39m\u001b[38;5;124mstmt_json\u001b[39m\u001b[38;5;124m\"\u001b[39m]\n\u001b[1;32m    133\u001b[0m          }\n\u001b[1;32m    134\u001b[0m         \u001b[38;5;28;01mfor\u001b[39;00m entry \u001b[38;5;129;01min\u001b[39;00m res\n\u001b[1;32m    135\u001b[0m     ]\n\u001b[1;32m    137\u001b[0m stmts_by_protein_df \u001b[38;5;241m=\u001b[39m pd\u001b[38;5;241m.\u001b[39mDataFrame\u001b[38;5;241m.\u001b[39mfrom_records(records)\n\u001b[1;32m    138\u001b[0m \u001b[38;5;66;03m# If there are target proteins filters data frame based on that list\u001b[39;00m\n",
      "File \u001b[0;32m~/Documents/GitHub/indra_cogex/src/indra_cogex/analysis/source_targets_explanation.py:126\u001b[0m, in \u001b[0;36m<listcomp>\u001b[0;34m(.0)\u001b[0m\n\u001b[1;32m    122\u001b[0m     \u001b[38;5;28;01mbreak\u001b[39;00m\n\u001b[1;32m    123\u001b[0m \u001b[38;5;66;03m# Extract necessary information from the result and creates dictionary\u001b[39;00m\n\u001b[1;32m    124\u001b[0m records \u001b[38;5;241m=\u001b[39m [\n\u001b[1;32m    125\u001b[0m        {\n\u001b[0;32m--> 126\u001b[0m         \u001b[38;5;124m\"\u001b[39m\u001b[38;5;124mname\u001b[39m\u001b[38;5;124m\"\u001b[39m: \u001b[43mentry\u001b[49m\u001b[38;5;241;43m.\u001b[39;49m\u001b[43mtarget_name\u001b[49m,\n\u001b[1;32m    127\u001b[0m         \u001b[38;5;124m\"\u001b[39m\u001b[38;5;124mtarget_type\u001b[39m\u001b[38;5;124m\"\u001b[39m: entry\u001b[38;5;241m.\u001b[39mtarget_ns,\n\u001b[1;32m    128\u001b[0m         \u001b[38;5;124m\"\u001b[39m\u001b[38;5;124mtarget_id\u001b[39m\u001b[38;5;124m\"\u001b[39m: entry\u001b[38;5;241m.\u001b[39mtarget_id,\n\u001b[1;32m    129\u001b[0m         \u001b[38;5;124m\"\u001b[39m\u001b[38;5;124mstmt_type\u001b[39m\u001b[38;5;124m\"\u001b[39m: entry\u001b[38;5;241m.\u001b[39mdata[\u001b[38;5;124m\"\u001b[39m\u001b[38;5;124mstmt_type\u001b[39m\u001b[38;5;124m\"\u001b[39m],\n\u001b[1;32m    130\u001b[0m         \u001b[38;5;124m\"\u001b[39m\u001b[38;5;124mevidence_count\u001b[39m\u001b[38;5;124m\"\u001b[39m:entry\u001b[38;5;241m.\u001b[39mdata[\u001b[38;5;124m\"\u001b[39m\u001b[38;5;124mevidence_count\u001b[39m\u001b[38;5;124m\"\u001b[39m],\n\u001b[1;32m    131\u001b[0m         \u001b[38;5;124m\"\u001b[39m\u001b[38;5;124mstmt_hash\u001b[39m\u001b[38;5;124m\"\u001b[39m:entry\u001b[38;5;241m.\u001b[39mdata[\u001b[38;5;124m\"\u001b[39m\u001b[38;5;124mstmt_hash\u001b[39m\u001b[38;5;124m\"\u001b[39m],\n\u001b[1;32m    132\u001b[0m         \u001b[38;5;124m\"\u001b[39m\u001b[38;5;124mstmt_json\u001b[39m\u001b[38;5;124m\"\u001b[39m: entry\u001b[38;5;241m.\u001b[39mdata[\u001b[38;5;124m\"\u001b[39m\u001b[38;5;124mstmt_json\u001b[39m\u001b[38;5;124m\"\u001b[39m]\n\u001b[1;32m    133\u001b[0m          }\n\u001b[1;32m    134\u001b[0m         \u001b[38;5;28;01mfor\u001b[39;00m entry \u001b[38;5;129;01min\u001b[39;00m res\n\u001b[1;32m    135\u001b[0m     ]\n\u001b[1;32m    137\u001b[0m stmts_by_protein_df \u001b[38;5;241m=\u001b[39m pd\u001b[38;5;241m.\u001b[39mDataFrame\u001b[38;5;241m.\u001b[39mfrom_records(records)\n\u001b[1;32m    138\u001b[0m \u001b[38;5;66;03m# If there are target proteins filters data frame based on that list\u001b[39;00m\n",
      "\u001b[0;31mAttributeError\u001b[0m: 'Relation' object has no attribute 'target_name'"
     ]
    }
   ],
   "source": [
    "results = explain_downstream(source_protein_name, target_protein_names, output_folder)\n",
    "\n",
    "env = Environment(loader=FileSystemLoader('.')) \n",
    "template = env.get_template('protein_analysis_template.html')\n",
    "output = template.render(result=results)\n",
    "\n",
    "with open('results.html', 'w') as f:\n",
    "    f.write(output)"
   ]
  },
  {
   "cell_type": "code",
   "execution_count": null,
   "id": "e9715d48",
   "metadata": {},
   "outputs": [],
   "source": [
    "htmls = glob.glob(os.path.join(output_folder, '*.html'))\n",
    "for html in htmls:\n",
    "    HTML(html)"
   ]
  },
  {
   "cell_type": "code",
   "execution_count": null,
   "id": "e97a570b",
   "metadata": {},
   "outputs": [],
   "source": [
    "HTML(html)"
   ]
  },
  {
   "cell_type": "code",
   "execution_count": null,
   "id": "fc12f155",
   "metadata": {},
   "outputs": [],
   "source": [
    "from indra.sources import indra_db_rest"
   ]
  },
  {
   "cell_type": "code",
   "execution_count": null,
   "id": "ced312de",
   "metadata": {},
   "outputs": [],
   "source": [
    "ip = indra_db_rest.get_statements(subject='LEF1')"
   ]
  },
  {
   "cell_type": "code",
   "execution_count": null,
   "id": "9b9f7895",
   "metadata": {},
   "outputs": [],
   "source": [
    "from indra.tools import assemble_corpus as ac\n",
    "stmts = ac.filter_gene_list(ip.statements, set(target_protein_names) - {'CTNNB1'} | {'LEF1'}, policy='all')"
   ]
  },
  {
   "cell_type": "code",
   "execution_count": null,
   "id": "7ed7a1bf",
   "metadata": {},
   "outputs": [],
   "source": [
    "stmts"
   ]
  },
  {
   "cell_type": "code",
   "execution_count": null,
   "id": "a34c26fb",
   "metadata": {},
   "outputs": [],
   "source": [
    "stmts = [s for s in stmts if len({x.name for x in s.real_agent_list()}) > 1]"
   ]
  },
  {
   "cell_type": "code",
   "execution_count": null,
   "id": "6f8cf643",
   "metadata": {},
   "outputs": [],
   "source": [
    "stmts"
   ]
  },
  {
   "cell_type": "code",
   "execution_count": null,
   "id": "71987146",
   "metadata": {},
   "outputs": [],
   "source": [
    "from indra.assemblers.html import HtmlAssembler"
   ]
  },
  {
   "cell_type": "code",
   "execution_count": null,
   "id": "fb01661b",
   "metadata": {},
   "outputs": [],
   "source": [
    "ha = HtmlAssembler(stmts)"
   ]
  },
  {
   "cell_type": "code",
   "execution_count": null,
   "id": "08bf5a71",
   "metadata": {},
   "outputs": [],
   "source": [
    "_ = ha.make_model(grouping_level='statement')\n",
    "ha.save_model('LEF1_explanations.html')"
   ]
  },
  {
   "cell_type": "code",
   "execution_count": null,
   "id": "edc8b6d0",
   "metadata": {},
   "outputs": [],
   "source": [
    "ip = indra_db_rest.get_statements(subject='TCF7L2')"
   ]
  },
  {
   "cell_type": "code",
   "execution_count": null,
   "id": "597b4f6f",
   "metadata": {},
   "outputs": [],
   "source": [
    "stmts = ac.filter_gene_list(ip.statements, set(target_protein_names) - {'CTNNB1'} | {'TCF7L2'}, policy='all')\n",
    "stmts = [s for s in stmts if len({x.name for x in s.real_agent_list()}) > 1]"
   ]
  },
  {
   "cell_type": "code",
   "execution_count": null,
   "id": "7e28bd00",
   "metadata": {},
   "outputs": [],
   "source": [
    "ha = HtmlAssembler(stmts)\n",
    "_ = ha.make_model(grouping_level='statement')\n",
    "ha.save_model('TCF7L2_explanations.html')"
   ]
  }
 ],
 "metadata": {
  "kernelspec": {
   "display_name": "Python 3 (ipykernel)",
   "language": "python",
   "name": "python3"
  },
  "language_info": {
   "codemirror_mode": {
    "name": "ipython",
    "version": 3
   },
   "file_extension": ".py",
   "mimetype": "text/x-python",
   "name": "python",
   "nbconvert_exporter": "python",
   "pygments_lexer": "ipython3",
   "version": "3.10.13"
  }
 },
 "nbformat": 4,
 "nbformat_minor": 5
}
